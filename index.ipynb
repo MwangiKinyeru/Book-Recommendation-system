{
 "cells": [
  {
   "cell_type": "markdown",
   "metadata": {},
   "source": [
    "# Book Recommedation system"
   ]
  },
  {
   "cell_type": "markdown",
   "metadata": {},
   "source": [
    "> ## **Author:** ***DS Martin M. Waweru***"
   ]
  },
  {
   "cell_type": "markdown",
   "metadata": {},
   "source": [
    "## Project Criteria\n",
    "This project will follow the CRISP_DM Criteria\n",
    "\n",
    "   >> Business understanding  \n",
    "   >> Data Understanding  \n",
    "   >> Data preparation  \n",
    "   >> Modeling  \n",
    "   >> Evaluation  \n",
    "   >> Deployment  "
   ]
  },
  {
   "cell_type": "markdown",
   "metadata": {},
   "source": [
    "## 1.0 Business Understanding\n",
    "\n",
    "### 1.1 Business problem\n",
    "In an era of digital transformation, bookstores, online retailers, and libraries face challenges in effectively recommending books to users. Traditional recommendation methods often fail to personalize suggestions, leading to missed sales opportunities and reduced customer engagement. A data-driven book recommendation system can enhance user experience by providing tailored recommendations based on reading preferences, behavior, and historical data.\n",
    "\n",
    "### 1.2 Overview\n",
    "This project aims to develop a book recommendation system that leverages machine learning techniques to suggest books based on user preferences. The system will analyze user interactions, book ratings, and content-based features to generate relevant recommendations. The model will be designed for scalability, making it applicable to online bookstores, digital libraries, and educational platforms.\n",
    "\n",
    "### 1.3 Project Objective\n",
    "\n",
    "> •\tBuild a recommendation system that improves user engagement by providing personalized book suggestions.\n",
    "\n",
    "> •\tUtilize collaborative filtering, content-based filtering, or hybrid approaches to enhance recommendation accuracy.\n",
    "\n",
    "> •\tOptimize the system for scalability, allowing integration with e-commerce and library management platforms.\n",
    "\n",
    "> •\tAnalyze user preferences and reading trends to refine recommendation strategies.\n",
    "\n"
   ]
  },
  {
   "cell_type": "markdown",
   "metadata": {},
   "source": [
    "## 2.0 Data Understanding\n",
    "\n",
    "### 2.1 Data Source\n",
    "My project utilizes data obtained from Kaggle [Download here](https://www.kaggle.com/datasets/jealousleopard/goodreadsbooks?resource=download), which was entirely scraped via the Goodreads API and was called books.\n",
    "\n",
    "### Data Column Description\n",
    "1. bookID - Unique identifier for each book.\n",
    "2. title - Title of the book.\n",
    "3. authors - Names of the authors.\n",
    "4. average_rating - Average rating given by users.\n",
    "5. isbn - 10-digit International Standard Book Number (ISBN).\n",
    "6. isbn13 - 13-digit ISBN for better identification.\n",
    "7. language_code - Language in which the book is written.\n",
    "8. num_pages - Number of pages in the book.\n",
    "9. ratings_count - Total number of ratings received.\n",
    "10. text_reviews_count - Number of text reviews submitted by users.\n",
    "11. publication_date - Date when the book was published.\n",
    "12. publisher - Name of the publishing company."
   ]
  },
  {
   "cell_type": "markdown",
   "metadata": {},
   "source": [
    "## 3.0 Data prepation\n",
    "\n",
    "### 3.1 Preview dataset basic information "
   ]
  },
  {
   "cell_type": "code",
   "execution_count": 27,
   "metadata": {},
   "outputs": [],
   "source": [
    "# Necessary Imports\n",
    "import pandas as pd\n",
    "import numpy as np\n",
    "import matplotlib.pyplot as plt\n",
    "import seaborn as sns\n",
    "\n",
    "import string\n",
    "import re\n",
    "import nltk\n",
    "from nltk.corpus import stopwords\n",
    "from sklearn.feature_extraction.text import TfidfVectorizer\n",
    "from sklearn.metrics.pairwise import cosine_similarity\n",
    "from sklearn.model_selection import train_test_split\n",
    "from sklearn.metrics import accuracy_score, classification_report, confusion_matrix\n"
   ]
  },
  {
   "cell_type": "code",
   "execution_count": 28,
   "metadata": {},
   "outputs": [
    {
     "name": "stdout",
     "output_type": "stream",
     "text": [
      "First 3 rows of the dataset:\n"
     ]
    },
    {
     "data": {
      "text/html": [
       "<div>\n",
       "<style scoped>\n",
       "    .dataframe tbody tr th:only-of-type {\n",
       "        vertical-align: middle;\n",
       "    }\n",
       "\n",
       "    .dataframe tbody tr th {\n",
       "        vertical-align: top;\n",
       "    }\n",
       "\n",
       "    .dataframe thead th {\n",
       "        text-align: right;\n",
       "    }\n",
       "</style>\n",
       "<table border=\"1\" class=\"dataframe\">\n",
       "  <thead>\n",
       "    <tr style=\"text-align: right;\">\n",
       "      <th></th>\n",
       "      <th>bookID</th>\n",
       "      <th>title</th>\n",
       "      <th>authors</th>\n",
       "      <th>average_rating</th>\n",
       "      <th>isbn</th>\n",
       "      <th>isbn13</th>\n",
       "      <th>language_code</th>\n",
       "      <th>num_pages</th>\n",
       "      <th>ratings_count</th>\n",
       "      <th>text_reviews_count</th>\n",
       "      <th>publication_date</th>\n",
       "      <th>publisher</th>\n",
       "    </tr>\n",
       "  </thead>\n",
       "  <tbody>\n",
       "    <tr>\n",
       "      <th>0</th>\n",
       "      <td>1</td>\n",
       "      <td>Harry Potter and the Half-Blood Prince (Harry ...</td>\n",
       "      <td>J.K. Rowling/Mary GrandPré</td>\n",
       "      <td>4.57</td>\n",
       "      <td>0439785960</td>\n",
       "      <td>9780439785969</td>\n",
       "      <td>eng</td>\n",
       "      <td>652</td>\n",
       "      <td>2095690</td>\n",
       "      <td>27591</td>\n",
       "      <td>9/16/2006</td>\n",
       "      <td>Scholastic Inc.</td>\n",
       "    </tr>\n",
       "    <tr>\n",
       "      <th>1</th>\n",
       "      <td>2</td>\n",
       "      <td>Harry Potter and the Order of the Phoenix (Har...</td>\n",
       "      <td>J.K. Rowling/Mary GrandPré</td>\n",
       "      <td>4.49</td>\n",
       "      <td>0439358078</td>\n",
       "      <td>9780439358071</td>\n",
       "      <td>eng</td>\n",
       "      <td>870</td>\n",
       "      <td>2153167</td>\n",
       "      <td>29221</td>\n",
       "      <td>9/1/2004</td>\n",
       "      <td>Scholastic Inc.</td>\n",
       "    </tr>\n",
       "    <tr>\n",
       "      <th>2</th>\n",
       "      <td>4</td>\n",
       "      <td>Harry Potter and the Chamber of Secrets (Harry...</td>\n",
       "      <td>J.K. Rowling</td>\n",
       "      <td>4.42</td>\n",
       "      <td>0439554896</td>\n",
       "      <td>9780439554893</td>\n",
       "      <td>eng</td>\n",
       "      <td>352</td>\n",
       "      <td>6333</td>\n",
       "      <td>244</td>\n",
       "      <td>11/1/2003</td>\n",
       "      <td>Scholastic</td>\n",
       "    </tr>\n",
       "  </tbody>\n",
       "</table>\n",
       "</div>"
      ],
      "text/plain": [
       "   bookID                                              title  \\\n",
       "0       1  Harry Potter and the Half-Blood Prince (Harry ...   \n",
       "1       2  Harry Potter and the Order of the Phoenix (Har...   \n",
       "2       4  Harry Potter and the Chamber of Secrets (Harry...   \n",
       "\n",
       "                      authors  average_rating        isbn         isbn13  \\\n",
       "0  J.K. Rowling/Mary GrandPré            4.57  0439785960  9780439785969   \n",
       "1  J.K. Rowling/Mary GrandPré            4.49  0439358078  9780439358071   \n",
       "2                J.K. Rowling            4.42  0439554896  9780439554893   \n",
       "\n",
       "  language_code    num_pages  ratings_count  text_reviews_count  \\\n",
       "0           eng          652        2095690               27591   \n",
       "1           eng          870        2153167               29221   \n",
       "2           eng          352           6333                 244   \n",
       "\n",
       "  publication_date        publisher  \n",
       "0        9/16/2006  Scholastic Inc.  \n",
       "1         9/1/2004  Scholastic Inc.  \n",
       "2        11/1/2003       Scholastic  "
      ]
     },
     "metadata": {},
     "output_type": "display_data"
    },
    {
     "name": "stdout",
     "output_type": "stream",
     "text": [
      "Last 3 rows of the dataset:\n"
     ]
    },
    {
     "data": {
      "text/html": [
       "<div>\n",
       "<style scoped>\n",
       "    .dataframe tbody tr th:only-of-type {\n",
       "        vertical-align: middle;\n",
       "    }\n",
       "\n",
       "    .dataframe tbody tr th {\n",
       "        vertical-align: top;\n",
       "    }\n",
       "\n",
       "    .dataframe thead th {\n",
       "        text-align: right;\n",
       "    }\n",
       "</style>\n",
       "<table border=\"1\" class=\"dataframe\">\n",
       "  <thead>\n",
       "    <tr style=\"text-align: right;\">\n",
       "      <th></th>\n",
       "      <th>bookID</th>\n",
       "      <th>title</th>\n",
       "      <th>authors</th>\n",
       "      <th>average_rating</th>\n",
       "      <th>isbn</th>\n",
       "      <th>isbn13</th>\n",
       "      <th>language_code</th>\n",
       "      <th>num_pages</th>\n",
       "      <th>ratings_count</th>\n",
       "      <th>text_reviews_count</th>\n",
       "      <th>publication_date</th>\n",
       "      <th>publisher</th>\n",
       "    </tr>\n",
       "  </thead>\n",
       "  <tbody>\n",
       "    <tr>\n",
       "      <th>11120</th>\n",
       "      <td>45634</td>\n",
       "      <td>The Ice-Shirt (Seven Dreams #1)</td>\n",
       "      <td>William T. Vollmann</td>\n",
       "      <td>3.96</td>\n",
       "      <td>0140131965</td>\n",
       "      <td>9780140131963</td>\n",
       "      <td>eng</td>\n",
       "      <td>415</td>\n",
       "      <td>820</td>\n",
       "      <td>95</td>\n",
       "      <td>8/1/1993</td>\n",
       "      <td>Penguin Books</td>\n",
       "    </tr>\n",
       "    <tr>\n",
       "      <th>11121</th>\n",
       "      <td>45639</td>\n",
       "      <td>Poor People</td>\n",
       "      <td>William T. Vollmann</td>\n",
       "      <td>3.72</td>\n",
       "      <td>0060878827</td>\n",
       "      <td>9780060878825</td>\n",
       "      <td>eng</td>\n",
       "      <td>434</td>\n",
       "      <td>769</td>\n",
       "      <td>139</td>\n",
       "      <td>2/27/2007</td>\n",
       "      <td>Ecco</td>\n",
       "    </tr>\n",
       "    <tr>\n",
       "      <th>11122</th>\n",
       "      <td>45641</td>\n",
       "      <td>Las aventuras de Tom Sawyer</td>\n",
       "      <td>Mark Twain</td>\n",
       "      <td>3.91</td>\n",
       "      <td>8497646983</td>\n",
       "      <td>9788497646987</td>\n",
       "      <td>spa</td>\n",
       "      <td>272</td>\n",
       "      <td>113</td>\n",
       "      <td>12</td>\n",
       "      <td>5/28/2006</td>\n",
       "      <td>Edimat Libros</td>\n",
       "    </tr>\n",
       "  </tbody>\n",
       "</table>\n",
       "</div>"
      ],
      "text/plain": [
       "       bookID                            title              authors  \\\n",
       "11120   45634  The Ice-Shirt (Seven Dreams #1)  William T. Vollmann   \n",
       "11121   45639                      Poor People  William T. Vollmann   \n",
       "11122   45641      Las aventuras de Tom Sawyer           Mark Twain   \n",
       "\n",
       "       average_rating        isbn         isbn13 language_code    num_pages  \\\n",
       "11120            3.96  0140131965  9780140131963           eng          415   \n",
       "11121            3.72  0060878827  9780060878825           eng          434   \n",
       "11122            3.91  8497646983  9788497646987           spa          272   \n",
       "\n",
       "       ratings_count  text_reviews_count publication_date      publisher  \n",
       "11120            820                  95         8/1/1993  Penguin Books  \n",
       "11121            769                 139        2/27/2007           Ecco  \n",
       "11122            113                  12        5/28/2006  Edimat Libros  "
      ]
     },
     "metadata": {},
     "output_type": "display_data"
    }
   ],
   "source": [
    "## load the dataset\n",
    "book = pd.read_csv(\"Data/books.csv\", sep=\",\", on_bad_lines='skip')\n",
    "\n",
    "print(f\"First 3 rows of the dataset:\")\n",
    "display(book.head(3))\n",
    "print(f\"Last 3 rows of the dataset:\")\n",
    "display(book.tail(3))"
   ]
  },
  {
   "cell_type": "code",
   "execution_count": 29,
   "metadata": {},
   "outputs": [
    {
     "name": "stdout",
     "output_type": "stream",
     "text": [
      "This dataset contains 11123 rows and 12 columns\n"
     ]
    }
   ],
   "source": [
    "# Checking the shape of the dataset\n",
    "print(f\"This dataset contains {book.shape[0]} rows and {book.shape[1]} columns\")"
   ]
  },
  {
   "cell_type": "code",
   "execution_count": 30,
   "metadata": {},
   "outputs": [
    {
     "name": "stdout",
     "output_type": "stream",
     "text": [
      "<class 'pandas.core.frame.DataFrame'>\n",
      "RangeIndex: 11123 entries, 0 to 11122\n",
      "Data columns (total 12 columns):\n",
      " #   Column              Non-Null Count  Dtype  \n",
      "---  ------              --------------  -----  \n",
      " 0   bookID              11123 non-null  int64  \n",
      " 1   title               11123 non-null  object \n",
      " 2   authors             11123 non-null  object \n",
      " 3   average_rating      11123 non-null  float64\n",
      " 4   isbn                11123 non-null  object \n",
      " 5   isbn13              11123 non-null  int64  \n",
      " 6   language_code       11123 non-null  object \n",
      " 7     num_pages         11123 non-null  int64  \n",
      " 8   ratings_count       11123 non-null  int64  \n",
      " 9   text_reviews_count  11123 non-null  int64  \n",
      " 10  publication_date    11123 non-null  object \n",
      " 11  publisher           11123 non-null  object \n",
      "dtypes: float64(1), int64(5), object(6)\n",
      "memory usage: 1.0+ MB\n"
     ]
    }
   ],
   "source": [
    "# Checking the info\n",
    "book.info()"
   ]
  },
  {
   "cell_type": "markdown",
   "metadata": {},
   "source": [
    "### 3.2 Handle missing values"
   ]
  },
  {
   "cell_type": "code",
   "execution_count": 31,
   "metadata": {},
   "outputs": [
    {
     "name": "stdout",
     "output_type": "stream",
     "text": [
      "bookID                0\n",
      "title                 0\n",
      "authors               0\n",
      "average_rating        0\n",
      "isbn                  0\n",
      "isbn13                0\n",
      "language_code         0\n",
      "  num_pages           0\n",
      "ratings_count         0\n",
      "text_reviews_count    0\n",
      "publication_date      0\n",
      "publisher             0\n",
      "dtype: int64\n",
      "The dataset has no missing values\n"
     ]
    }
   ],
   "source": [
    "# Check for missing values\n",
    "print(book.isna().sum())\n",
    "print(\"The dataset has no missing values\")"
   ]
  },
  {
   "cell_type": "markdown",
   "metadata": {},
   "source": [
    "### 3.3 Checking for duplicates"
   ]
  },
  {
   "cell_type": "code",
   "execution_count": 32,
   "metadata": {},
   "outputs": [
    {
     "name": "stdout",
     "output_type": "stream",
     "text": [
      "The dataset contains 0 rows\n"
     ]
    }
   ],
   "source": [
    "# duplicated rows\n",
    "print(f\"The dataset contains {book.duplicated().sum()} rows\")"
   ]
  },
  {
   "cell_type": "markdown",
   "metadata": {},
   "source": [
    "### 3.4 Columns check-Up\n",
    "\n",
    "#### 3.4.1 summary plan\n",
    "This recommendation system uses Content-Based Filtering, focusing primarily on the title and authors columns because they directly describe the content of the books. The title captures the book's theme or subject, while the authors indicate writing style and genre, making them the most impactful features for determining similarity. Additionally, the publisher and language_code columns can be used to provide further context. \n",
    "\n",
    "To make the system more flexible, it is designed to accept user input from any of the four columns—whether the user knows a book title, an author, a publisher. For example, if a user wants to read books from a specific publisher, the system will find books from that publisher and recommend similar ones, ensuring a personalized and user-friendly experience.\n",
    "\n",
    "#### 3.4.1 Drop and rename columns\n",
    "Dropping Unnecessary Columns which are irrelevant to the project\n",
    "renaming Some column names in the dataset which are inconsistent or unclear to improve readability and usability"
   ]
  },
  {
   "cell_type": "code",
   "execution_count": 33,
   "metadata": {},
   "outputs": [
    {
     "data": {
      "text/plain": [
       "Index(['bookID', 'title', 'authors', 'average_rating', 'isbn', 'isbn13',\n",
       "       'language_code', '  num_pages', 'ratings_count', 'text_reviews_count',\n",
       "       'publication_date', 'publisher'],\n",
       "      dtype='object')"
      ]
     },
     "execution_count": 33,
     "metadata": {},
     "output_type": "execute_result"
    }
   ],
   "source": [
    "# Checking for columns\n",
    "book.columns"
   ]
  },
  {
   "cell_type": "code",
   "execution_count": 34,
   "metadata": {},
   "outputs": [],
   "source": [
    "# rename langauge code to langauge\n",
    "book.rename(columns={\"language_code\":\"language\"}, inplace=True)"
   ]
  },
  {
   "cell_type": "code",
   "execution_count": 35,
   "metadata": {},
   "outputs": [
    {
     "data": {
      "text/plain": [
       "language\n",
       "eng      8908\n",
       "en-US    1408\n",
       "spa       218\n",
       "en-GB     214\n",
       "fre       144\n",
       "ger        99\n",
       "jpn        46\n",
       "mul        19\n",
       "zho        14\n",
       "grc        11\n",
       "por        10\n",
       "en-CA       7\n",
       "ita         5\n",
       "enm         3\n",
       "lat         3\n",
       "swe         2\n",
       "rus         2\n",
       "srp         1\n",
       "nl          1\n",
       "msa         1\n",
       "glg         1\n",
       "wel         1\n",
       "ara         1\n",
       "nor         1\n",
       "tur         1\n",
       "gla         1\n",
       "ale         1\n",
       "Name: count, dtype: int64"
      ]
     },
     "execution_count": 35,
     "metadata": {},
     "output_type": "execute_result"
    }
   ],
   "source": [
    "\"\"\"\n",
    "Preview how many languages our dataset contains.\n",
    "If it consists of books in only one language, then\n",
    "drop the language column; otherwise, we will keep it\n",
    "\"\"\"\n",
    "book[\"language\"].value_counts()"
   ]
  },
  {
   "cell_type": "code",
   "execution_count": 36,
   "metadata": {},
   "outputs": [
    {
     "data": {
      "text/plain": [
       "Index(['title', 'authors', 'language', 'publisher'], dtype='object')"
      ]
     },
     "execution_count": 36,
     "metadata": {},
     "output_type": "execute_result"
    }
   ],
   "source": [
    "# listing columns to drop\n",
    "irrelevant_columns = ['bookID', 'average_rating', 'isbn', 'isbn13', '  num_pages', 'ratings_count', 'text_reviews_count','publication_date',]\n",
    "# drop irrelevant columns\n",
    "book.drop(columns=irrelevant_columns, inplace=True)\n",
    "\n",
    "# preview the new data\n",
    "book.columns"
   ]
  },
  {
   "cell_type": "markdown",
   "metadata": {},
   "source": [
    "### 3.5 Text Preprocessing\n",
    "This process involves Converting text to lowercase, Removing text in parentheses (e.g., \"Book 1\"), Removing special characters, and Removing stopwords like \"the\", \"and\", \"of\". Text processing will be conducted as follows title, authors, publishers and language respectively"
   ]
  },
  {
   "cell_type": "code",
   "execution_count": 37,
   "metadata": {},
   "outputs": [
    {
     "data": {
      "text/html": [
       "<div>\n",
       "<style scoped>\n",
       "    .dataframe tbody tr th:only-of-type {\n",
       "        vertical-align: middle;\n",
       "    }\n",
       "\n",
       "    .dataframe tbody tr th {\n",
       "        vertical-align: top;\n",
       "    }\n",
       "\n",
       "    .dataframe thead th {\n",
       "        text-align: right;\n",
       "    }\n",
       "</style>\n",
       "<table border=\"1\" class=\"dataframe\">\n",
       "  <thead>\n",
       "    <tr style=\"text-align: right;\">\n",
       "      <th></th>\n",
       "      <th>title</th>\n",
       "      <th>authors</th>\n",
       "      <th>language</th>\n",
       "      <th>publisher</th>\n",
       "    </tr>\n",
       "  </thead>\n",
       "  <tbody>\n",
       "    <tr>\n",
       "      <th>25</th>\n",
       "      <td>The Lord of the Rings: Weapons and Warfare</td>\n",
       "      <td>Chris   Smith/Christopher  Lee/Richard Taylor</td>\n",
       "      <td>eng</td>\n",
       "      <td>Houghton Mifflin Harcourt</td>\n",
       "    </tr>\n",
       "    <tr>\n",
       "      <th>26</th>\n",
       "      <td>The Lord of the Rings: Complete Visual Companion</td>\n",
       "      <td>Jude Fisher</td>\n",
       "      <td>eng</td>\n",
       "      <td>Houghton Mifflin Harcourt</td>\n",
       "    </tr>\n",
       "    <tr>\n",
       "      <th>27</th>\n",
       "      <td>Agile Web Development with Rails: A Pragmatic ...</td>\n",
       "      <td>Dave Thomas/David Heinemeier Hansson/Leon Bree...</td>\n",
       "      <td>eng</td>\n",
       "      <td>Pragmatic Bookshelf</td>\n",
       "    </tr>\n",
       "    <tr>\n",
       "      <th>28</th>\n",
       "      <td>Hatchet (Brian's Saga  #1)</td>\n",
       "      <td>Gary Paulsen</td>\n",
       "      <td>eng</td>\n",
       "      <td>Atheneum Books for Young Readers: Richard Jack...</td>\n",
       "    </tr>\n",
       "    <tr>\n",
       "      <th>29</th>\n",
       "      <td>Hatchet: A Guide for Using \"Hatchet\" in the Cl...</td>\n",
       "      <td>Donna Ickes/Edward Sciranko/Keith Vasconcelles</td>\n",
       "      <td>eng</td>\n",
       "      <td>Teacher Created Resources</td>\n",
       "    </tr>\n",
       "    <tr>\n",
       "      <th>30</th>\n",
       "      <td>Guts: The True Stories behind Hatchet and the ...</td>\n",
       "      <td>Gary Paulsen</td>\n",
       "      <td>eng</td>\n",
       "      <td>Delacorte Press</td>\n",
       "    </tr>\n",
       "    <tr>\n",
       "      <th>31</th>\n",
       "      <td>Molly Hatchet - 5 of the Best</td>\n",
       "      <td>Molly Hatchet</td>\n",
       "      <td>eng</td>\n",
       "      <td>Cherry Lane Music Company</td>\n",
       "    </tr>\n",
       "    <tr>\n",
       "      <th>32</th>\n",
       "      <td>Hatchet Jobs: Writings on Contemporary Fiction</td>\n",
       "      <td>Dale Peck</td>\n",
       "      <td>en-US</td>\n",
       "      <td>The New Press</td>\n",
       "    </tr>\n",
       "    <tr>\n",
       "      <th>33</th>\n",
       "      <td>A Changeling for All Seasons (Changeling Seaso...</td>\n",
       "      <td>Angela Knight/Sahara Kelly/Judy Mays/Marteeka ...</td>\n",
       "      <td>eng</td>\n",
       "      <td>Changeling Press</td>\n",
       "    </tr>\n",
       "    <tr>\n",
       "      <th>34</th>\n",
       "      <td>Changeling (Changeling  #1)</td>\n",
       "      <td>Delia Sherman</td>\n",
       "      <td>eng</td>\n",
       "      <td>Viking Juvenile</td>\n",
       "    </tr>\n",
       "    <tr>\n",
       "      <th>35</th>\n",
       "      <td>The Changeling Sea</td>\n",
       "      <td>Patricia A. McKillip</td>\n",
       "      <td>eng</td>\n",
       "      <td>Firebird</td>\n",
       "    </tr>\n",
       "  </tbody>\n",
       "</table>\n",
       "</div>"
      ],
      "text/plain": [
       "                                                title  \\\n",
       "25         The Lord of the Rings: Weapons and Warfare   \n",
       "26   The Lord of the Rings: Complete Visual Companion   \n",
       "27  Agile Web Development with Rails: A Pragmatic ...   \n",
       "28                         Hatchet (Brian's Saga  #1)   \n",
       "29  Hatchet: A Guide for Using \"Hatchet\" in the Cl...   \n",
       "30  Guts: The True Stories behind Hatchet and the ...   \n",
       "31                      Molly Hatchet - 5 of the Best   \n",
       "32     Hatchet Jobs: Writings on Contemporary Fiction   \n",
       "33  A Changeling for All Seasons (Changeling Seaso...   \n",
       "34                        Changeling (Changeling  #1)   \n",
       "35                                 The Changeling Sea   \n",
       "\n",
       "                                              authors language  \\\n",
       "25      Chris   Smith/Christopher  Lee/Richard Taylor      eng   \n",
       "26                                        Jude Fisher      eng   \n",
       "27  Dave Thomas/David Heinemeier Hansson/Leon Bree...      eng   \n",
       "28                                       Gary Paulsen      eng   \n",
       "29     Donna Ickes/Edward Sciranko/Keith Vasconcelles      eng   \n",
       "30                                       Gary Paulsen      eng   \n",
       "31                                      Molly Hatchet      eng   \n",
       "32                                          Dale Peck    en-US   \n",
       "33  Angela Knight/Sahara Kelly/Judy Mays/Marteeka ...      eng   \n",
       "34                                      Delia Sherman      eng   \n",
       "35                               Patricia A. McKillip      eng   \n",
       "\n",
       "                                            publisher  \n",
       "25                          Houghton Mifflin Harcourt  \n",
       "26                          Houghton Mifflin Harcourt  \n",
       "27                                Pragmatic Bookshelf  \n",
       "28  Atheneum Books for Young Readers: Richard Jack...  \n",
       "29                          Teacher Created Resources  \n",
       "30                                    Delacorte Press  \n",
       "31                          Cherry Lane Music Company  \n",
       "32                                      The New Press  \n",
       "33                                   Changeling Press  \n",
       "34                                    Viking Juvenile  \n",
       "35                                           Firebird  "
      ]
     },
     "execution_count": 37,
     "metadata": {},
     "output_type": "execute_result"
    }
   ],
   "source": [
    "# Preview before cleaning print 10 r0ws\n",
    "book1 = book.iloc[25:36]\n",
    "book1"
   ]
  },
  {
   "cell_type": "code",
   "execution_count": 38,
   "metadata": {},
   "outputs": [],
   "source": [
    "# Standardizing the title column\n",
    "\"\"\"\n",
    "This function cleans and standardizes book titles by converting them \n",
    "to lowercase, removing text inside parentheses, and eliminating special \n",
    "characters. It also filters out common stopwords like \"the\" and \"and\" to\n",
    "focus on more meaningful words. This ensures the titles are cleaner, more \n",
    "focused, and easier to process for analysis and recommendation purposes\n",
    "\"\"\"\n",
    "stop_words = set(stopwords.words('english'))\n",
    "# defining a function\n",
    "def clean_title(title):\n",
    "    title = title.lower()  \n",
    "    title = re.sub(r\"\\([^)]*\\)\", \"\", title)  \n",
    "    title = re.sub(r\"[^a-zA-Z0-9\\s]\", \"\", title)  \n",
    "    words = title.split()  \n",
    "    words = [word for word in words if word not in stop_words]\n",
    "    return \" \".join(words)\n",
    "   # Apply the standardization function to the \"title\" column\n",
    "book[\"title\"] = book[\"title\"].apply(clean_title)"
   ]
  },
  {
   "cell_type": "code",
   "execution_count": 39,
   "metadata": {},
   "outputs": [],
   "source": [
    "# Standardizing the author column\n",
    "\"\"\"\n",
    "Standardizing the authors column:\n",
    "To ensure consistency, we will first apply text preprocessing on the authors' names. \n",
    "Specifically, we will split multi-author entries (e.g., \"J.K. Rowling/Mary GrandPré\") \n",
    "and keep only the first author’s name. This way, we will have one author name per \n",
    "record, instead of listing multiple authors separated by a slash.\n",
    "\"\"\"\n",
    "# defining a function\n",
    "def standardize_authors(authors):\n",
    "    # Split to take the first author\n",
    "    authors = authors.split(\"/\")[0].strip()\n",
    "    # Remove multiple spaces and replace with a single space\n",
    "    authors = re.sub(r'\\s+', ' ', authors)\n",
    "    # Convert to lowercase for consistency\n",
    "    return authors.lower()  \n",
    "    # Apply the standardization function to the \"authors\" column\n",
    "book[\"authors\"] = book[\"authors\"].apply(standardize_authors)\n"
   ]
  },
  {
   "cell_type": "code",
   "execution_count": 40,
   "metadata": {},
   "outputs": [],
   "source": [
    "# # Standardizing the publisher column\n",
    "\"\"\"\n",
    "This function cleans and standardizes publisher names by removing extra spaces,\n",
    "converting them to lowercase, and eliminating common suffixes like \"Inc.\" and \"Ltd.\". \n",
    "This helps make the publisher names consistent, removing any variations and ensuring \n",
    "they are uniform for easier analysis and comparison.\n",
    "\"\"\"\n",
    "# defining a function\n",
    "def standardize_publisher(publisher):\n",
    "    publisher = publisher.strip().lower()\n",
    "    # Remove common suffixes like 'Inc.', 'Corporation', 'Ltd.', 'Co.', etc.\n",
    "    publisher = re.sub(r\"\\s*(inc\\.|corporation|co\\.|ltd\\.|company|corp\\.|\\(.*\\))\\s*\", \"\", publisher)\n",
    "    # Remove multiple spaces and replace with a single space\n",
    "    publisher = re.sub(r'\\s+', ' ', publisher)\n",
    "    \n",
    "    return publisher\n",
    "    # Apply the standardization function to the \"publisher\" column\n",
    "book[\"publisher\"] = book[\"publisher\"].apply(standardize_publisher)\n"
   ]
  },
  {
   "cell_type": "code",
   "execution_count": 41,
   "metadata": {},
   "outputs": [
    {
     "data": {
      "text/plain": [
       "language\n",
       "en         10537\n",
       "es           218\n",
       "fr           144\n",
       "de            99\n",
       "ja            46\n",
       "mix           19\n",
       "unknown       17\n",
       "zh            14\n",
       "el            11\n",
       "pt            10\n",
       "it             5\n",
       "ru             2\n",
       "ga             1\n",
       "Name: count, dtype: int64"
      ]
     },
     "execution_count": 41,
     "metadata": {},
     "output_type": "execute_result"
    }
   ],
   "source": [
    "# Standardizing the language column\n",
    "\"\"\"\n",
    "This function cleans and standardizes language codes by converting them to \n",
    "lowercase and mapping variations (e.g., \"en-US\" and \"en-GB\") to a common\n",
    "standard. It also replaces unrecognized or multiple-language entries with\n",
    "\"unknown\" to ensure consistency. This helps improve data quality for better\n",
    "analysis and recommendations.\n",
    "\"\"\"\n",
    "# defining a function\n",
    "def clean_language(language):\n",
    "    # Convert to lowercase and strip extra spaces\n",
    "    language = language.strip().lower()\n",
    "    # Map country-specific language codes \n",
    "    # for example (like 'en-US' or 'en-GB') to a general language code ('en')\n",
    "    language_mapping = {\n",
    "        'en-us': 'en', 'en-gb': 'en', 'en-ca': 'en', 'en': 'en', 'eng': 'en',  \n",
    "        'fre': 'fr', 'fra': 'fr', \n",
    "        'spa': 'es', 'esp': 'es',  \n",
    "        'ger': 'de', 'deu': 'de',  \n",
    "        'por': 'pt',  \n",
    "        'zho': 'zh',  \n",
    "        'jpn': 'ja',  \n",
    "        'rus': 'ru',  \n",
    "        'ita': 'it',  \n",
    "        'grc': 'el',\n",
    "        'gla': 'ga',   \n",
    "        'mul': 'mix',\n",
    "    }\n",
    "    \n",
    "    # Standardize language code based on the mapping\n",
    "    if language in language_mapping:\n",
    "        return language_mapping[language]\n",
    "    else:\n",
    "    # For unrecognized or rare language codes\n",
    "        return 'unknown'  \n",
    " # Apply the standardization function to the \"language\" column   \n",
    "book[\"language\"] = book[\"language\"].apply(clean_language)\n",
    "# preview the language column\n",
    "book[\"language\"].value_counts()\n"
   ]
  },
  {
   "cell_type": "code",
   "execution_count": 42,
   "metadata": {},
   "outputs": [
    {
     "data": {
      "text/html": [
       "<div>\n",
       "<style scoped>\n",
       "    .dataframe tbody tr th:only-of-type {\n",
       "        vertical-align: middle;\n",
       "    }\n",
       "\n",
       "    .dataframe tbody tr th {\n",
       "        vertical-align: top;\n",
       "    }\n",
       "\n",
       "    .dataframe thead th {\n",
       "        text-align: right;\n",
       "    }\n",
       "</style>\n",
       "<table border=\"1\" class=\"dataframe\">\n",
       "  <thead>\n",
       "    <tr style=\"text-align: right;\">\n",
       "      <th></th>\n",
       "      <th>title</th>\n",
       "      <th>authors</th>\n",
       "      <th>language</th>\n",
       "      <th>publisher</th>\n",
       "    </tr>\n",
       "  </thead>\n",
       "  <tbody>\n",
       "    <tr>\n",
       "      <th>5467</th>\n",
       "      <td>breaking point</td>\n",
       "      <td>steve perry</td>\n",
       "      <td>en</td>\n",
       "      <td>berkley</td>\n",
       "    </tr>\n",
       "    <tr>\n",
       "      <th>5468</th>\n",
       "      <td>airborne guided tour airborne task force</td>\n",
       "      <td>tom clancy</td>\n",
       "      <td>en</td>\n",
       "      <td>berkley</td>\n",
       "    </tr>\n",
       "    <tr>\n",
       "      <th>5469</th>\n",
       "      <td>red rabbit</td>\n",
       "      <td>tom clancy</td>\n",
       "      <td>en</td>\n",
       "      <td>g.p. putnam's sons</td>\n",
       "    </tr>\n",
       "    <tr>\n",
       "      <th>5470</th>\n",
       "      <td>john deere farm tractors history john deere tr...</td>\n",
       "      <td>randy leffingwell</td>\n",
       "      <td>en</td>\n",
       "      <td>motorbooks international</td>\n",
       "    </tr>\n",
       "    <tr>\n",
       "      <th>5471</th>\n",
       "      <td>corvette fifty years</td>\n",
       "      <td>randy leffingwell</td>\n",
       "      <td>en</td>\n",
       "      <td>motorbooks</td>\n",
       "    </tr>\n",
       "    <tr>\n",
       "      <th>5472</th>\n",
       "      <td>tough tackle</td>\n",
       "      <td>matt christopher</td>\n",
       "      <td>en</td>\n",
       "      <td>little brown books for young readers</td>\n",
       "    </tr>\n",
       "    <tr>\n",
       "      <th>5473</th>\n",
       "      <td>complete guide onenote</td>\n",
       "      <td>w. frederick zimmerman</td>\n",
       "      <td>en</td>\n",
       "      <td>apress</td>\n",
       "    </tr>\n",
       "    <tr>\n",
       "      <th>5474</th>\n",
       "      <td>goon show volume 4 knees fallen</td>\n",
       "      <td>not a book</td>\n",
       "      <td>en</td>\n",
       "      <td>bbc physical audio</td>\n",
       "    </tr>\n",
       "    <tr>\n",
       "      <th>5475</th>\n",
       "      <td>goon show moriarty</td>\n",
       "      <td>not a book</td>\n",
       "      <td>en</td>\n",
       "      <td>bbc physical audio</td>\n",
       "    </tr>\n",
       "    <tr>\n",
       "      <th>5476</th>\n",
       "      <td>goon show volume 11 hes fallen water</td>\n",
       "      <td>not a book</td>\n",
       "      <td>en</td>\n",
       "      <td>bbc physical audio</td>\n",
       "    </tr>\n",
       "    <tr>\n",
       "      <th>5477</th>\n",
       "      <td>power die 48 gesetze der macht</td>\n",
       "      <td>robert greene</td>\n",
       "      <td>de</td>\n",
       "      <td>deutscher taschenbuch verlag</td>\n",
       "    </tr>\n",
       "  </tbody>\n",
       "</table>\n",
       "</div>"
      ],
      "text/plain": [
       "                                                  title  \\\n",
       "5467                                     breaking point   \n",
       "5468           airborne guided tour airborne task force   \n",
       "5469                                         red rabbit   \n",
       "5470  john deere farm tractors history john deere tr...   \n",
       "5471                               corvette fifty years   \n",
       "5472                                       tough tackle   \n",
       "5473                             complete guide onenote   \n",
       "5474                    goon show volume 4 knees fallen   \n",
       "5475                                 goon show moriarty   \n",
       "5476               goon show volume 11 hes fallen water   \n",
       "5477                     power die 48 gesetze der macht   \n",
       "\n",
       "                     authors language                             publisher  \n",
       "5467             steve perry       en                               berkley  \n",
       "5468              tom clancy       en                               berkley  \n",
       "5469              tom clancy       en                    g.p. putnam's sons  \n",
       "5470       randy leffingwell       en              motorbooks international  \n",
       "5471       randy leffingwell       en                            motorbooks  \n",
       "5472        matt christopher       en  little brown books for young readers  \n",
       "5473  w. frederick zimmerman       en                                apress  \n",
       "5474              not a book       en                    bbc physical audio  \n",
       "5475              not a book       en                    bbc physical audio  \n",
       "5476              not a book       en                    bbc physical audio  \n",
       "5477           robert greene       de          deutscher taschenbuch verlag  "
      ]
     },
     "execution_count": 42,
     "metadata": {},
     "output_type": "execute_result"
    }
   ],
   "source": [
    "# Preview after text preprocessing\n",
    "book2 = book.iloc[5467:5478]\n",
    "book2"
   ]
  },
  {
   "cell_type": "markdown",
   "metadata": {},
   "source": [
    "## 4.0 Feature Engineering\n",
    "\n",
    "### 4.1 Combining Important Features\n",
    "\n",
    "This function combines important book details—title, authors, and publisher—into a single text field. By merging these features, we ensure that the recommendation system captures a broader context of each book, leading to more accurate and relevant suggestions."
   ]
  },
  {
   "cell_type": "code",
   "execution_count": 43,
   "metadata": {},
   "outputs": [
    {
     "data": {
      "text/html": [
       "<div>\n",
       "<style scoped>\n",
       "    .dataframe tbody tr th:only-of-type {\n",
       "        vertical-align: middle;\n",
       "    }\n",
       "\n",
       "    .dataframe tbody tr th {\n",
       "        vertical-align: top;\n",
       "    }\n",
       "\n",
       "    .dataframe thead th {\n",
       "        text-align: right;\n",
       "    }\n",
       "</style>\n",
       "<table border=\"1\" class=\"dataframe\">\n",
       "  <thead>\n",
       "    <tr style=\"text-align: right;\">\n",
       "      <th></th>\n",
       "      <th>title</th>\n",
       "      <th>authors</th>\n",
       "      <th>language</th>\n",
       "      <th>publisher</th>\n",
       "      <th>combined_features</th>\n",
       "    </tr>\n",
       "  </thead>\n",
       "  <tbody>\n",
       "    <tr>\n",
       "      <th>0</th>\n",
       "      <td>harry potter halfblood prince</td>\n",
       "      <td>j.k. rowling</td>\n",
       "      <td>en</td>\n",
       "      <td>scholastic</td>\n",
       "      <td>harry potter halfblood prince j.k. rowling sch...</td>\n",
       "    </tr>\n",
       "    <tr>\n",
       "      <th>1</th>\n",
       "      <td>harry potter order phoenix</td>\n",
       "      <td>j.k. rowling</td>\n",
       "      <td>en</td>\n",
       "      <td>scholastic</td>\n",
       "      <td>harry potter order phoenix j.k. rowling schola...</td>\n",
       "    </tr>\n",
       "    <tr>\n",
       "      <th>2</th>\n",
       "      <td>harry potter chamber secrets</td>\n",
       "      <td>j.k. rowling</td>\n",
       "      <td>en</td>\n",
       "      <td>scholastic</td>\n",
       "      <td>harry potter chamber secrets j.k. rowling scho...</td>\n",
       "    </tr>\n",
       "    <tr>\n",
       "      <th>3</th>\n",
       "      <td>harry potter prisoner azkaban</td>\n",
       "      <td>j.k. rowling</td>\n",
       "      <td>en</td>\n",
       "      <td>scholastic</td>\n",
       "      <td>harry potter prisoner azkaban j.k. rowling sch...</td>\n",
       "    </tr>\n",
       "    <tr>\n",
       "      <th>4</th>\n",
       "      <td>harry potter boxed set books 15</td>\n",
       "      <td>j.k. rowling</td>\n",
       "      <td>en</td>\n",
       "      <td>scholastic</td>\n",
       "      <td>harry potter boxed set books 15 j.k. rowling s...</td>\n",
       "    </tr>\n",
       "  </tbody>\n",
       "</table>\n",
       "</div>"
      ],
      "text/plain": [
       "                             title       authors language   publisher  \\\n",
       "0    harry potter halfblood prince  j.k. rowling       en  scholastic   \n",
       "1       harry potter order phoenix  j.k. rowling       en  scholastic   \n",
       "2     harry potter chamber secrets  j.k. rowling       en  scholastic   \n",
       "3    harry potter prisoner azkaban  j.k. rowling       en  scholastic   \n",
       "4  harry potter boxed set books 15  j.k. rowling       en  scholastic   \n",
       "\n",
       "                                   combined_features  \n",
       "0  harry potter halfblood prince j.k. rowling sch...  \n",
       "1  harry potter order phoenix j.k. rowling schola...  \n",
       "2  harry potter chamber secrets j.k. rowling scho...  \n",
       "3  harry potter prisoner azkaban j.k. rowling sch...  \n",
       "4  harry potter boxed set books 15 j.k. rowling s...  "
      ]
     },
     "execution_count": 43,
     "metadata": {},
     "output_type": "execute_result"
    }
   ],
   "source": [
    "# Creating a new column \n",
    "book[\"combined_features\"] = book[\"title\"] + \" \" + book[\"authors\"] + \" \" + book[\"publisher\"] + \" \" + book[\"language\"]\n",
    "# preview the combined feature\n",
    "book.head()"
   ]
  },
  {
   "cell_type": "markdown",
   "metadata": {},
   "source": [
    "### 4.2 Preview modified data\n",
    "Since we have made several changes to the dataset, we need to check if it now contains any missing values or duplicate entries. This helps ensure the data remains clean and ready for building the recommendation system."
   ]
  },
  {
   "cell_type": "code",
   "execution_count": 44,
   "metadata": {},
   "outputs": [
    {
     "name": "stdout",
     "output_type": "stream",
     "text": [
      "The modified data contains 0 missing value\n",
      "\n",
      "The modified data contains 113 duplicated rows\n"
     ]
    }
   ],
   "source": [
    "# checking missing values and duplicates\n",
    "print(f\"The modified data contains {book.isna().sum().sum()} missing value\\n\")\n",
    "print(f\"The modified data contains {book.duplicated().sum().sum()} duplicated rows\")"
   ]
  },
  {
   "cell_type": "code",
   "execution_count": 45,
   "metadata": {},
   "outputs": [
    {
     "name": "stdout",
     "output_type": "stream",
     "text": [
      "The modified data contains 0 duplicated rows\n"
     ]
    }
   ],
   "source": [
    "# Lets drop the duplicated values\n",
    "book.drop_duplicates(inplace=True)\n",
    "# preview \n",
    "print(f\"The modified data contains {book.duplicated().sum().sum()} duplicated rows\")"
   ]
  },
  {
   "cell_type": "code",
   "execution_count": 46,
   "metadata": {},
   "outputs": [],
   "source": [
    "# Save the cleaned dataset to a new CSV file\n",
    "book.to_csv(\"cleaned_books.csv\", index=False)"
   ]
  },
  {
   "cell_type": "markdown",
   "metadata": {},
   "source": [
    "### 4.3 Applying TF-IDF Vectorization\n",
    "\n",
    "This transforms our text data into a format where each book is represented as a list of numbers, capturing important features from the text. Each book's information is turned into a vector, allowing us to compare and analyze them easily in a mathematical space."
   ]
  },
  {
   "cell_type": "code",
   "execution_count": 47,
   "metadata": {},
   "outputs": [],
   "source": [
    "# Initialize TF-IDF Vectorizer\n",
    "tfidf = TfidfVectorizer(stop_words='english')\n",
    "# Transform the text into TF-IDF feature vectors\n",
    "tfidf_matrix = tfidf.fit_transform(book[\"combined_features\"])"
   ]
  },
  {
   "cell_type": "markdown",
   "metadata": {
    "vscode": {
     "languageId": "bat"
    }
   },
   "source": [
    "### 4.4 Calculate Similarity Between Book\n",
    "\n",
    "This step calculates how similar each book is to the others by comparing their feature vectors using cosine similarity. It measures the angle between the books' vectors in a high-dimensional space, with a value closer to 1 indicating high similarity and a value closer to 0 indicating low similarity."
   ]
  },
  {
   "cell_type": "code",
   "execution_count": 48,
   "metadata": {},
   "outputs": [],
   "source": [
    "# Calculate cosine similarity between books\n",
    "cosine_sim = cosine_similarity(tfidf_matrix, tfidf_matrix)"
   ]
  },
  {
   "cell_type": "markdown",
   "metadata": {},
   "source": [
    "### 4.5 Create a function to get recommedations\n",
    "\n",
    "This function takes a user's input and searches for a match in the book dataset across titles, authors, and publishers. Once a match is found, it calculates the similarity between the selected book and all other books using cosine similarity. The function then ranks the books based on similarity scores and returns the top five most similar recommendations. This approach ensures that users receive relevant book suggestions regardless of whether they input a title, author, or publisher."
   ]
  },
  {
   "cell_type": "code",
   "execution_count": 49,
   "metadata": {},
   "outputs": [],
   "source": [
    "# defining a function\n",
    "def get_recommendations_based_on_input(user_input, cosine_sim=cosine_sim):\n",
    "    # Convert user input to lowercase for consistency\n",
    "    user_input = user_input.lower()\n",
    "    # Try to match the user input with title, author, and publisher\n",
    "    # Search in 'title' first\n",
    "    idx = book[book['title'].str.contains(user_input, case=False, na=False)].index\n",
    "    if not idx.empty:\n",
    "        input_type = 'title'\n",
    "    else:\n",
    "        # Search in 'authors' if no match in title\n",
    "        idx = book[book['authors'].str.contains(user_input, case=False, na=False)].index\n",
    "        if not idx.empty:\n",
    "            input_type = 'authors'\n",
    "        else:\n",
    "            # Search in 'publisher' if no match in title or author\n",
    "            idx = book[book['publisher'].str.contains(user_input, case=False, na=False)].index\n",
    "            input_type = 'publisher' if not idx.empty else None\n",
    "    \n",
    "    if idx.empty:\n",
    "        return \"❌ Book not found. Please try a different title, author, or publisher.\"\n",
    "    # Get the pairwise similarity scores of all books with the selected book\n",
    "    sim_scores = list(enumerate(cosine_sim[idx[0]]))\n",
    "    # Sort the books based on similarity scores\n",
    "    sim_scores = sorted(sim_scores, key=lambda x: x[1], reverse=True)\n",
    "    # Get the indices of the top 10 most similar books\n",
    "    sim_scores = sim_scores[1:11] \n",
    "    # Get the book indices\n",
    "    book_indices = [i[0] for i in sim_scores]\n",
    "    # Return the top 10 most similar books\n",
    "    return book['title'].iloc[book_indices]\n"
   ]
  },
  {
   "cell_type": "markdown",
   "metadata": {},
   "source": [
    "### 4.6 Creating a user input function\n",
    "\n",
    "Testing if it functions well, the example used test if the user inputs book title, book author, and book publishers organisation will get book titles that are simillar. and also alert the user if the book is not found"
   ]
  },
  {
   "cell_type": "code",
   "execution_count": 50,
   "metadata": {},
   "outputs": [
    {
     "name": "stdout",
     "output_type": "stream",
     "text": [
      "5524            emperor\n",
      "110         long shadow\n",
      "5520          floodtide\n",
      "5522             maiden\n",
      "10361     dream kingdom\n",
      "5523          oak apple\n",
      "5519     tangled thread\n",
      "5518       killing time\n",
      "10520     bizarre world\n",
      "2579            embrace\n",
      "Name: title, dtype: object\n"
     ]
    }
   ],
   "source": [
    "# Example 1 usage via title\n",
    "user_input = \"breaking point\"\n",
    "recommended_books = get_recommendations_based_on_input(user_input)\n",
    "print(recommended_books)\n"
   ]
  },
  {
   "cell_type": "code",
   "execution_count": 51,
   "metadata": {},
   "outputs": [
    {
     "name": "stdout",
     "output_type": "stream",
     "text": [
      "5521         white road\n",
      "110         long shadow\n",
      "5520          floodtide\n",
      "5522             maiden\n",
      "10361     dream kingdom\n",
      "5523          oak apple\n",
      "5519     tangled thread\n",
      "5518       killing time\n",
      "10520     bizarre world\n",
      "2579            embrace\n",
      "Name: title, dtype: object\n"
     ]
    }
   ],
   "source": [
    "# Example 2 usage via author\n",
    "user_input = \"randy leffingwell\"\n",
    "recommended_books = get_recommendations_based_on_input(user_input)\n",
    "print(recommended_books)"
   ]
  },
  {
   "cell_type": "code",
   "execution_count": 52,
   "metadata": {},
   "outputs": [
    {
     "name": "stdout",
     "output_type": "stream",
     "text": [
      "5529           dragons fire\n",
      "5530              maelstrom\n",
      "6605            dragons kin\n",
      "7426             dragonsong\n",
      "7427           dragonsinger\n",
      "7425             dragonsong\n",
      "8990    best lester del rey\n",
      "6606           dragonflight\n",
      "7428            dragondrums\n",
      "4784                 friday\n",
      "Name: title, dtype: object\n"
     ]
    }
   ],
   "source": [
    "# Example 3 usage via publisher\n",
    "user_input = \"bbc physical audio\"\n",
    "recommended_books = get_recommendations_based_on_input(user_input)\n",
    "print(recommended_books)"
   ]
  },
  {
   "cell_type": "code",
   "execution_count": 53,
   "metadata": {},
   "outputs": [
    {
     "name": "stdout",
     "output_type": "stream",
     "text": [
      "❌ Book not found. Please try a different title, author, or publisher.\n"
     ]
    }
   ],
   "source": [
    "# Example 3 usage where no match was found\n",
    "user_input = \"wanjiru\"\n",
    "recommended_books = get_recommendations_based_on_input(user_input)\n",
    "print(recommended_books)"
   ]
  },
  {
   "cell_type": "markdown",
   "metadata": {},
   "source": [
    "### 5.0 Conclusion\n",
    "\n",
    "This content-based filtering recommendation system suggests the 10 most similar books based on user input. Users can search by book title, author name, or publisher. If the requested book is not found, the system will notify the user and prompt them to try a different title, author, or publisher."
   ]
  }
 ],
 "metadata": {
  "kernelspec": {
   "display_name": "Python (learn-env)",
   "language": "python",
   "name": "learn-env"
  },
  "language_info": {
   "codemirror_mode": {
    "name": "ipython",
    "version": 3
   },
   "file_extension": ".py",
   "mimetype": "text/x-python",
   "name": "python",
   "nbconvert_exporter": "python",
   "pygments_lexer": "ipython3",
   "version": "3.8.5"
  }
 },
 "nbformat": 4,
 "nbformat_minor": 2
}
